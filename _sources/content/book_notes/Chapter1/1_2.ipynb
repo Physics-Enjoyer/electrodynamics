{
 "cells": [
  {
   "cell_type": "markdown",
   "metadata": {},
   "source": [
    "# Section 1.2 Component form\n",
    "\n",
    "This is going to be a short section since I already introduced components and most of the mathematical definitions in the last section. Really I'm just going to introduce some new terminology and notation.\n"
   ]
  }
 ],
 "metadata": {
  "language_info": {
   "name": "python"
  },
  "orig_nbformat": 4
 },
 "nbformat": 4,
 "nbformat_minor": 2
}
