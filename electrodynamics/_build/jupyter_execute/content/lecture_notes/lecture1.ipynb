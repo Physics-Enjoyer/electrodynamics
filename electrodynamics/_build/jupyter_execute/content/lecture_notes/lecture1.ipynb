{
 "cells": [
  {
   "cell_type": "markdown",
   "metadata": {},
   "source": [
    "# Lecture 1 (8/15/2023)\n"
   ]
  },
  {
   "cell_type": "code",
   "execution_count": 1,
   "metadata": {
    "tags": [
     "hide-input",
     "remove-output"
    ]
   },
   "outputs": [
    {
     "name": "stdout",
     "output_type": "stream",
     "text": [
      "Intel MKL WARNING: Support of Intel(R) Streaming SIMD Extensions 4.2 (Intel(R) SSE4.2) enabled only processors has been deprecated. Intel oneAPI Math Kernel Library 2025.0 will require Intel(R) Advanced Vector Extensions (Intel(R) AVX) instructions.\n",
      "Intel MKL WARNING: Support of Intel(R) Streaming SIMD Extensions 4.2 (Intel(R) SSE4.2) enabled only processors has been deprecated. Intel oneAPI Math Kernel Library 2025.0 will require Intel(R) Advanced Vector Extensions (Intel(R) AVX) instructions.\n"
     ]
    }
   ],
   "source": [
    "# Import necessary modules\n",
    "import numpy as np\n",
    "from matplotlib import pyplot as plt\n",
    "import pandas as pd\n",
    "from IPython.display import display, Math\n",
    "#set plot resolution\n",
    "%config InlineBackend.figure_format = 'retina'\n",
    "# Gets rid of transparent border around images\n",
    "plt.style.use('default')\n",
    "# set default colormap\n",
    "default_cmap = 'jet'\n",
    "plt.set_cmap(cmap=default_cmap)\n",
    "plt.close()"
   ]
  },
  {
   "cell_type": "markdown",
   "metadata": {},
   "source": [
    "# Math Review\n",
    "\n",
    "Here we will review some of the math that is needed in this course. Specifically we will review some vector analysis because Maxwell's Equations are all about vector analysis.\n",
    "\n",
    "## Maxwell's Equations\n",
    "\n",
    "Before we get to the actual math review lets look at why we need it. E&M is all about Maxwell's Equations and Maxwell's Equations come in two different \"flavors\". The differential form and the Integral Form. Both are shown below.\n",
    "\n",
    "::::{grid}\n",
    ":::{grid-item}\n",
    ":outline:\n",
    ":columns: 3\n",
    "Maxwell's Equations\n",
    ":::\n",
    ":::{grid-item}\n",
    ":outline:\n",
    ":columns: 4\n",
    "Differential Form\n",
    ":::\n",
    ":::{grid-item}\n",
    ":outline:\n",
    ":columns: 5\n",
    "Integral Form\n",
    ":::\n",
    ":::{grid-item}\n",
    ":outline:\n",
    ":columns: 3\n",
    "Gauss's Law\n",
    ":::\n",
    "\n",
    ":::{grid-item}\n",
    ":outline:\n",
    ":columns: 4\n",
    "$$\\nabla \\cdot \\vec{D} = \\rho_v$$\n",
    ":::\n",
    "\n",
    ":::{grid-item}\n",
    ":outline:\n",
    ":columns: 5\n",
    "$$\\oint_S \\vec{D}\\cdot d\\vec{s} = Q$$\n",
    ":::\n",
    "\n",
    ":::{grid-item}\n",
    ":outline:\n",
    ":columns: 3\n",
    "No Magnetic Monopoles\n",
    ":::\n",
    "\n",
    ":::{grid-item}\n",
    ":outline:\n",
    ":columns: 4\n",
    "$$\\nabla \\cdot \\vec{B} = 0$$\n",
    ":::\n",
    "\n",
    ":::{grid-item}\n",
    ":outline:\n",
    ":columns: 5\n",
    "$$\\oint_S \\vec{B} \\cdot d\\vec{s} = 0$$\n",
    ":::\n",
    "\n",
    ":::{grid-item}\n",
    ":outline:\n",
    ":columns: 3\n",
    "Faraday's Law\n",
    ":::\n",
    "\n",
    ":::{grid-item}\n",
    ":outline:\n",
    ":columns: 4\n",
    "$$\\nabla \\times \\vec{E} = -\\frac{\\partial \\vec{B}}{\\partial t}$$\n",
    ":::\n",
    "\n",
    ":::{grid-item}\n",
    ":outline:\n",
    ":columns: 5\n",
    "$$\\oint_C \\vec{E}\\cdot d\\vec{l} = -\\frac{d \\phi}{dt}$$\n",
    ":::\n",
    "\n",
    ":::{grid-item}\n",
    ":outline:\n",
    ":columns: 3\n",
    "Ampere's Law\n",
    ":::\n",
    "\n",
    ":::{grid-item}\n",
    ":outline:\n",
    ":columns: 4\n",
    "$$\\nabla \\times \\vec{H} = \\vec{J} - \\frac{\\partial\\vec{D}}{\\partial t}$$\n",
    ":::\n",
    "\n",
    ":::{grid-item}\n",
    ":outline:\n",
    ":columns: 5\n",
    "$$\\oint_S \\vec{H}\\cdot d\\vec{l} = \\oint_S(\\vec{J}+\\frac{\\partial\\vec{D}}{\\partial t})\\cdot d\\vec{s}$$\n",
    ":::\n",
    "\n",
    "::::\n"
   ]
  },
  {
   "cell_type": "markdown",
   "metadata": {},
   "source": [
    "### Fields\n",
    "\n",
    "From these equations the field equations can be derived the different fields in electrostatics. The electric fi\n"
   ]
  },
  {
   "cell_type": "markdown",
   "metadata": {},
   "source": [
    "# Vector and Scaler Quantities\n",
    "\n",
    "- A **scaler** is just a number. No indices (or index of 0)\n",
    "- A **vector** is a list of numbers and thus has one index $A_i$\n",
    "- A **tensor** is an array of numbers, a generalization of a vector, and can have 2 or more indices $A_{i,j}$\n",
    "\n",
    "A vector is a mathematical object that has both a magnitude and a direction. It will be notated as $\\vec{A}$. The magnitude of the vector or the size of the vector is notated as $|\\vec{A}|$ or simply $A$.\n",
    "\n",
    "**Unit vectors** are unitless vectors that have a magnitude of 1 and point in the direction of the vector. $\\hat{A} = \\frac{\\vec{A}}{|\\vec{A}|}$. Note that they are dimensionless and it just points in the direction of the vector $\\vec{A}$.\n",
    "\n",
    "Now using unit vectors we can notate a vector with its magnitude $A$ and direction $\\hat{A}$\n",
    "\n",
    "$\\vec{A} = A\\hat{A}$\n"
   ]
  }
 ],
 "metadata": {
  "kernelspec": {
   "display_name": "book_env",
   "language": "python",
   "name": "python3"
  },
  "language_info": {
   "codemirror_mode": {
    "name": "ipython",
    "version": 3
   },
   "file_extension": ".py",
   "mimetype": "text/x-python",
   "name": "python",
   "nbconvert_exporter": "python",
   "pygments_lexer": "ipython3",
   "version": "3.10.13"
  }
 },
 "nbformat": 4,
 "nbformat_minor": 2
}