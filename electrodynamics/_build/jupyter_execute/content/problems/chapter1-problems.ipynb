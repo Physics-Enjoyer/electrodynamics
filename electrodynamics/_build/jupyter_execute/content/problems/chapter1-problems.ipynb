{
 "cells": [
  {
   "cell_type": "code",
   "execution_count": 1,
   "metadata": {},
   "outputs": [
    {
     "name": "stdout",
     "output_type": "stream",
     "text": [
      "Intel MKL WARNING: Support of Intel(R) Streaming SIMD Extensions 4.2 (Intel(R) SSE4.2) enabled only processors has been deprecated. Intel oneAPI Math Kernel Library 2025.0 will require Intel(R) Advanced Vector Extensions (Intel(R) AVX) instructions.\n",
      "Intel MKL WARNING: Support of Intel(R) Streaming SIMD Extensions 4.2 (Intel(R) SSE4.2) enabled only processors has been deprecated. Intel oneAPI Math Kernel Library 2025.0 will require Intel(R) Advanced Vector Extensions (Intel(R) AVX) instructions.\n"
     ]
    }
   ],
   "source": [
    "# Import necessary modules\n",
    "import numpy as np\n",
    "from matplotlib import pyplot as plt\n",
    "import pandas as pd\n",
    "import sympy as smp\n",
    "from IPython.display import display, Math\n",
    "#set plot resolution\n",
    "%config InlineBackend.figure_format = 'retina'\n",
    "# Gets rid of transparent border around images\n",
    "plt.style.use('default')\n",
    "# set default colormap\n",
    "default_cmap = 'jet'\n",
    "plt.set_cmap(cmap=default_cmap)\n",
    "plt.close()"
   ]
  },
  {
   "cell_type": "markdown",
   "metadata": {},
   "source": [
    "# Problem 1.1\n",
    "\n",
    "Using the definitions in Eqs. 1.1 and 1.4, and appropriate diagrams, show that the dot product and cross product are distributive,\n",
    "\n",
    "a) when the three vectors are coplanar;\n",
    "\n",
    "b) in the general case.\n",
    "\n",
    "equation 1.1 is\n",
    "\n",
    "$$\n",
    "\\bf{A}\\cdot\\bf{B} = AB\\cos(\\theta) \\\\\n",
    "$$ (eq1-1)\n",
    "\n",
    "The dot product being distributive means that $\\bf{A}\\cdot(\\bf{B}+\\bf{C}) = \\bf{A}\\cdot\\bf{B} + \\bf{A}\\cdot\\bf{C}$\n",
    "\n",
    "The cross product being distributive means that $\\bf{A}\\times(\\bf{B}+\\bf{C}) = \\bf{A}\\times\\bf{B} + \\bf{A}\\times\\bf{C}$\n",
    "\n",
    "\n",
    "$$\n"
   ]
  },
  {
   "cell_type": "markdown",
   "metadata": {},
   "source": [
    "## The general case\n",
    "\n",
    "### Dot Product\n",
    "\n",
    "$\\bf{A}\\cdot(\\bf{B}+\\bf{C}) = A(B+C)\\cos(\\theta)$\n",
    "\n",
    "Since $A$, $B$, and $C$ are the magnitudes of the vectors that means that $A, B, C \\in \\mathbb{R}$\n",
    "\n",
    "We can now use the distributive property for real numbers\n",
    "\n",
    "$(AB+AC)\\cos(\\theta) = AB\\cos(\\theta) + AC\\cos(\\theta) = \\bf{A}\\cdot\\bf{B} + \\bf{A}\\cdot\\bf{C}$\n",
    "\n",
    "### Cross Product\n",
    "\n",
    "The cross product can be shown similarly to the dot product\n",
    "\n",
    "$\\bf{A}\\times(\\bf{B}+\\bf{C}) = A(B+C)\\sin(\\theta) = (AB+AC)\\sin(\\theta) = AB\\sin(\\theta) + AC\\sin(\\theta) = \\bf{A}\\times\\bf{B} + \\bf{A}\\times\\bf{C}$\n"
   ]
  }
 ],
 "metadata": {
  "kernelspec": {
   "display_name": "book_env",
   "language": "python",
   "name": "python3"
  },
  "language_info": {
   "codemirror_mode": {
    "name": "ipython",
    "version": 3
   },
   "file_extension": ".py",
   "mimetype": "text/x-python",
   "name": "python",
   "nbconvert_exporter": "python",
   "pygments_lexer": "ipython3",
   "version": "3.11.3"
  }
 },
 "nbformat": 4,
 "nbformat_minor": 2
}