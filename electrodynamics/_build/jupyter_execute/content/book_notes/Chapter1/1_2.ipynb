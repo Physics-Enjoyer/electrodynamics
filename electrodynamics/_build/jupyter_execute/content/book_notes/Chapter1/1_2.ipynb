{
 "cells": [
  {
   "cell_type": "markdown",
   "metadata": {},
   "source": [
    "# Section 1.2 Component form\n",
    "\n",
    "This is going to be a short section since I already introduced components and most of the mathematical definitions in the last section. Really I'm just going to introduce some new terminology and notation.\n"
   ]
  }
 ],
 "metadata": {
  "language_info": {
   "codemirror_mode": {
    "name": "ipython",
    "version": 3
   },
   "file_extension": ".py",
   "mimetype": "text/x-python",
   "name": "python",
   "nbconvert_exporter": "python",
   "pygments_lexer": "ipython3",
   "version": "3.11.3"
  }
 },
 "nbformat": 4,
 "nbformat_minor": 2
}