{
 "cells": [
  {
   "cell_type": "markdown",
   "metadata": {},
   "source": [
    "# Formula Sheet\n"
   ]
  },
  {
   "cell_type": "markdown",
   "metadata": {},
   "source": [
    "## Derivatives\n",
    "\n",
    "### Cartesian Coordinates\n",
    "\n",
    "$$dl = dx\\hat{\\textbf{x}} + dy\\hat{\\textbf{y}} + dz\\hat{\\textbf{z}}$$ (dl)\n",
    "\n",
    "$$d\\tau = dxdydz$$ (dtau)\n",
    "\n",
    "#### Gradient\n",
    "\n",
    "$$\\nabla t = \\frac{\\partial t}{\\partial x}\\hat{\\textbf{x}} +\\frac{\\partial t}{\\partial y}\\hat{\\textbf{y}} + \\frac{\\partial t}{\\partial z}\\hat{\\textbf{z}}$$ (cart-grad)\n",
    "\n",
    "#### Divergence\n",
    "\n",
    "#### Curl\n",
    "\n",
    "#### Laplacian\n",
    "\n",
    "### Spherical Coordinates\n",
    "\n",
    "#### Gradient\n",
    "\n",
    "#### Divergence\n",
    "\n",
    "#### Curl\n",
    "\n",
    "#### Laplacian\n"
   ]
  }
 ],
 "metadata": {
  "language_info": {
   "codemirror_mode": {
    "name": "ipython",
    "version": 3
   },
   "file_extension": ".py",
   "mimetype": "text/x-python",
   "name": "python",
   "nbconvert_exporter": "python",
   "pygments_lexer": "ipython3",
   "version": "3.11.3"
  }
 },
 "nbformat": 4,
 "nbformat_minor": 2
}