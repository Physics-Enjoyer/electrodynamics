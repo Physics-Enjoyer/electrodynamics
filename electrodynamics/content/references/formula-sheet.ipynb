{
 "cells": [
  {
   "cell_type": "markdown",
   "metadata": {},
   "source": [
    "# Formula Sheet\n"
   ]
  },
  {
   "cell_type": "markdown",
   "metadata": {},
   "source": [
    "## Derivatives\n",
    "\n",
    "### Cartesian Coordinates\n",
    "\n",
    "$$dl = dx\\hat{\\textbf{x}} + dy\\hat{\\textbf{y}} + dz\\hat{\\textbf{z}}$$ (dl)\n",
    "\n",
    "$$d\\tau = dxdydz$$ (dtau)\n",
    "\n",
    "#### Gradient\n",
    "\n",
    "$$\\nabla t = \\frac{\\partial t}{\\partial x}\\hat{\\textbf{x}} +\\frac{\\partial t}{\\partial y}\\hat{\\textbf{y}} + \\frac{\\partial t}{\\partial z}\\hat{\\textbf{z}}$$ (cart-grad)\n",
    "\n",
    "#### Divergence\n",
    "\n",
    "#### Curl\n",
    "\n",
    "#### Laplacian\n",
    "\n",
    "### Spherical Coordinates\n",
    "\n",
    "#### Gradient\n",
    "\n",
    "#### Divergence\n",
    "\n",
    "#### Curl\n",
    "\n",
    "#### Laplacian\n"
   ]
  }
 ],
 "metadata": {
  "language_info": {
   "name": "python"
  },
  "orig_nbformat": 4
 },
 "nbformat": 4,
 "nbformat_minor": 2
}
