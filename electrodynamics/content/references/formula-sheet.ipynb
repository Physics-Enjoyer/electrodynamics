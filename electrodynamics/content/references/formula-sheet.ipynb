{
 "cells": [
  {
   "cell_type": "markdown",
   "metadata": {},
   "source": [
    "# Formula Sheet\n"
   ]
  },
  {
   "cell_type": "markdown",
   "metadata": {},
   "source": [
    "## Derivatives\n",
    "\n",
    "### Cartesian Coordinates\n",
    "\n",
    "$$dl = dx\\hat{\\textbf{x}} + dy\\hat{\\textbf{y}} + dz\\hat{\\textbf{z}}$$ (dl)\n",
    "\n",
    "$$d\\tau = dxdydz$$ (dtau)\n",
    "\n",
    "#### Gradient\n",
    "\n",
    "$$\\nabla t = \\frac{\\partial t}{\\partial x}\\hat{\\textbf{x}} +\\frac{\\partial t}{\\partial y}\\hat{\\textbf{y}} + \\frac{\\partial t}{\\partial z}\\hat{\\textbf{z}}$$ (cart-grad)\n",
    "\n",
    "#### Divergence\n",
    "\n",
    "$$\\nabla \\cdot \\textbf{v} = \\frac{\\partial v_x}{\\partial x} + \\frac{\\partial v_y}{\\partial y} + \\frac{\\partial v_z}{\\partial z}$$ (cart-div)\n",
    "\n",
    "#### Curl\n",
    "\n",
    "$$\\nabla \\times \\textbf{v} = (\\frac{\\partial v_z}{\\partial y} - \\frac{\\partial v_y}{\\partial z})\\hat{\\textbf{x}} + (\\frac{\\partial v_x}{\\partial z} - \\frac{\\partial v_z}{\\partial x})\\hat{\\textbf{y}} + (\\frac{\\partial v_y}{\\partial x} - \\frac{\\partial v_x}{\\partial y})\\hat{\\textbf{z}}$$ (cart-curl)\n",
    "\n",
    "$$\n",
    "\\nabla \\times \\textbf{v} = \\begin{vmatrix}\n",
    "\\hat{\\textbf{x}} & \\hat{\\textbf{y}} & \\hat{\\textbf{z}} \\\\\n",
    "\\frac{\\partial v}{\\partial x} & \\frac{\\partial v}{\\partial y} & \\frac{\\partial v}{\\partial z} \\\\\n",
    "v_x & v_y & v_z \\\\\n",
    "\\end{vmatrix}$$ (cart-curl-mat)\n",
    "\n",
    "#### Laplacian\n",
    "\n",
    "\n",
    "$$\\nabla ^2 T = \\nabla \\cdot (\\nabla T) = \\frac{\\partial^2T}{\\partial x} + \\frac{\\partial^2T}{\\partial y} + \\frac{\\partial^2T}{\\partial z}$$ (cart-laplacian)\n",
    "\n",
    "### Spherical Coordinates\n",
    "\n",
    "\n",
    "$$dl = dr\\hat{\\textbf{r}} + rd\\theta \\hat{\\bm{\\theta}} + r \\sin{\\bm{\\theta}} d\\phi \\hat{\\bm{\\phi}}$$ (sphere-dl)\n",
    "\n",
    "#### Gradient\n",
    "\n",
    "#### Divergence\n",
    "\n",
    "#### Curl\n",
    "\n",
    "#### Laplacian\n",
    "$$\n"
   ]
  },
  {
   "cell_type": "markdown",
   "metadata": {},
   "source": []
  }
 ],
 "metadata": {
  "language_info": {
   "name": "python"
  },
  "orig_nbformat": 4
 },
 "nbformat": 4,
 "nbformat_minor": 2
}
