{
 "cells": [
  {
   "cell_type": "markdown",
   "metadata": {},
   "source": [
    "# Integral Calculus\n"
   ]
  },
  {
   "cell_type": "code",
   "execution_count": 4,
   "metadata": {},
   "outputs": [],
   "source": [
    "# Import necessary modules\n",
    "import numpy as np\n",
    "from matplotlib import pyplot as plt\n",
    "import pandas as pd\n",
    "from IPython.display import display, Math\n",
    "import sympy as smp\n",
    "#set plot resolution\n",
    "%config InlineBackend.figure_format = 'retina'\n",
    "# Gets rid of transparent border around images\n",
    "plt.style.use('default')\n",
    "# set default colormap\n",
    "default_cmap = 'jet'\n",
    "plt.set_cmap(cmap=default_cmap)\n",
    "plt.close()"
   ]
  },
  {
   "cell_type": "markdown",
   "metadata": {},
   "source": [
    "## Line, Surface, and Volume Integrals\n",
    "\n",
    "### Line Integrals\n",
    "\n",
    "Line or path integrals are expressions of the form\n",
    "\n",
    "$$\n",
    "\\int_a^b \\textbf{v}\\cdot dl\n",
    "$$\n",
    "\n",
    "Here $\\textbf{v}$ is a vector function and $d \\textbf{l}$ is an infinitesimal distance along a path.\n",
    "\n",
    "$\\textbf{dl}$ is defined in 3D space as\n",
    "\n",
    "$$\n",
    "d\\textbf{l} = dx\\hat{\\textbf{x}} + dy\\hat{\\textbf{y}} + dz\\hat{\\textbf{z}}\n",
    "$$\n",
    "\n",
    "#### Closed Paths\n",
    "\n",
    "If the path is starts and ends at the same point then the integral is notated as\n",
    "\n",
    "$$\n",
    "\\oint \\textbf{v}\\cdot d \\textbf{l}\n",
    "$$\n",
    "\n",
    "An example of a line or path integral is Work $W = \\int_a^b \\textbf{F}\\cdot dl$\n",
    "\n",
    "The line integral generally depends on the path it takes from point $a$ to point $b$. However if the force is a _conservative_ force then the path does not matter.\n"
   ]
  },
  {
   "cell_type": "markdown",
   "metadata": {},
   "source": [
    "### Example 1.6\n",
    "\n",
    "Calculate the line integral of the function $v = y^2 \\hat{x} + 2 x (y+y)\\hat{y}$ from the point $\\textbf{a}=(1,1,0)$ to the point $\\textbf{b} = (2,2,0)$ along paths (1) and (2) in the figure below\n"
   ]
  },
  {
   "cell_type": "code",
   "execution_count": null,
   "metadata": {},
   "outputs": [],
   "source": []
  },
  {
   "cell_type": "markdown",
   "metadata": {},
   "source": [
    "### Surface Integrals\n",
    "\n",
    "Surface integrals are very similar to line integrals and are defined as\n",
    "\n",
    "$$\\int_S \\textbf{v} \\cdot da$$\n",
    "\n",
    "Here $S$ is a surface or an area and $da$ is an infinitesimal patch of that area. This means that since $da$ is an area it is a multiplication of two sides and the normal vector pointing in the direction perpendicular to the surface.\n",
    "\n",
    "In Cartesian coordinates this means that\n",
    "\n",
    "$$\n",
    "da = dxdy\\hat{\\bf{z}} \\\\\n",
    "da = dydz\\hat{\\bf{x}} \\\\\n",
    "da = dxdz\\hat{\\bf{y}}\n",
    "$$\n",
    "\n",
    "_If_ the normal vector is perpendicular to one of the 3 coordinate axes\n",
    "\n",
    "If the surface is a closed surface we again use the $\\oint$ notation and the integral becomes\n",
    "\n",
    "$$\n",
    "\\oint \\textbf{v} \\cdot d\\textbf{a}\n",
    "$$\n"
   ]
  },
  {
   "cell_type": "markdown",
   "metadata": {},
   "source": [
    "### Volume Integrals\n",
    "\n",
    "Volume integrals are of the form\n",
    "\n",
    "$$\n",
    "\\int_V Td\\tau\n",
    "$$\n",
    "\n",
    "Here $T$ is a _scaler_ function and remember that volume is a product of all three sides of a shape so in Cartesian coordinates\n",
    "\n",
    "$$\n",
    "d\\tau = dxdydz\n",
    "$$\n",
    "\n",
    "We may encounter volume integrals of _vector_ functions in which case the volume integral is defined as\n",
    "\n",
    "$$\n",
    "\\int \\textbf{v}d\\tau = \\int (v_x\\hat{\\textbf{x}} + v_y\\hat{\\textbf{y}} + v_z\\hat{\\textbf{z}})d\\tau = \\hat{\\textbf{x}}\\int v_x + \\hat{\\textbf{y}}\\int v_y + \\hat{\\textbf{z}}\\int v_z\n",
    "$$\n",
    "\n",
    "Where $v_x$, $v_y$, and $v_z$ are the $x$, $y$, and $z$ components of the vector function and the unit vectors $\\hat{\\textbf{x}}$, $\\hat{\\textbf{y}}$, and $\\hat{\\textbf{z}}$ can be pulled out of the equation because they are constant _in cartesian coordinates_.\n"
   ]
  },
  {
   "cell_type": "markdown",
   "metadata": {},
   "source": [
    "## Fundamental Theorems of Vector Calculus\n",
    "\n",
    "There are 3 different \"Fundamental Theorems\" in vector calculus and they all stem from the The Fundamental Theorem of Calculus which states\n",
    "\n",
    "$$\n",
    "\\int_a^b F(x)dx = f(b)-f(a)\n",
    "$$\n",
    "\n",
    "which can also be written as\n",
    "\n",
    "$$\\int_a^b (\\frac{df}{dx})dx = f(b)-f(a)$$\n",
    "\n",
    "Basically this states that the value of the integral is determined entirely by the values at the boundary.\n",
    "\n",
    "Since there are 3 types of derivatives (the gradient, the divergence, the curl) they each get their own fundamental theorem in vector calculus\n",
    "\n",
    "- The Fundamental Theorem for Gradients\n",
    "- The Fundamental Theorem for Divergences\n",
    "- The Fundamental Theorem for Curls\n"
   ]
  },
  {
   "cell_type": "markdown",
   "metadata": {},
   "source": [
    "### The Fundamental Theorem for Gradients\n"
   ]
  }
 ],
 "metadata": {
  "kernelspec": {
   "display_name": "book_env",
   "language": "python",
   "name": "python3"
  },
  "language_info": {
   "codemirror_mode": {
    "name": "ipython",
    "version": 3
   },
   "file_extension": ".py",
   "mimetype": "text/x-python",
   "name": "python",
   "nbconvert_exporter": "python",
   "pygments_lexer": "ipython3",
   "version": "3.11.3"
  },
  "orig_nbformat": 4
 },
 "nbformat": 4,
 "nbformat_minor": 2
}
